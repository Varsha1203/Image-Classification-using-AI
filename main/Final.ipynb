{
 "cells": [
  {
   "cell_type": "code",
   "execution_count": 29,
   "metadata": {},
   "outputs": [],
   "source": [
    "# Imports\n",
    "import tensorflow as tf\n",
    "import numpy as np\n",
    "import matplotlib.pyplot as plt\n",
    "import logging"
   ]
  },
  {
   "cell_type": "code",
   "execution_count": 30,
   "metadata": {},
   "outputs": [],
   "source": [
    "model = tf.keras.models.Sequential()"
   ]
  },
  {
   "cell_type": "code",
   "execution_count": 31,
   "metadata": {},
   "outputs": [],
   "source": [
    "# Defining the model\n",
    "\n",
    "model.add(tf.keras.layers.Conv2D(32 , kernel_size = (2,2) , input_shape = (64,64,3) ,activation = 'relu'))\n",
    "model.add(tf.keras.layers.MaxPool2D(pool_size  = (2,2)))\n",
    "\n",
    "model.add(tf.keras.layers.Conv2D(32, kernel_size = (2,2),activation = 'relu'))\n",
    "model.add(tf.keras.layers.MaxPool2D(pool_size = (2,2)))\n",
    "\n",
    "model.add(tf.keras.layers.Flatten())\n",
    "model.add(tf.keras.layers.Dense(units = 128 , activation = 'relu'))\n",
    "model.add(tf.keras.layers.Dense(units = 3 , activation = 'softmax'))"
   ]
  },
  {
   "cell_type": "code",
   "execution_count": 32,
   "metadata": {},
   "outputs": [],
   "source": [
    "# Compiling the model\n",
    "model.compile(loss = 'categorical_crossentropy', optimizer = 'sgd')"
   ]
  },
  {
   "cell_type": "code",
   "execution_count": 33,
   "metadata": {},
   "outputs": [],
   "source": [
    "# Image Data Generations\n",
    "train_gen = tf.keras.preprocessing.image.ImageDataGenerator(rescale = 1./255, shear_range = 0.2 , zoom_range = 0.2 , horizontal_flip = True)\n",
    "test_gen = tf.keras.preprocessing.image.ImageDataGenerator(rescale = 1./255)"
   ]
  },
  {
   "cell_type": "code",
   "execution_count": 34,
   "metadata": {
    "scrolled": true
   },
   "outputs": [
    {
     "name": "stdout",
     "output_type": "stream",
     "text": [
      "Found 45 images belonging to 3 classes.\n",
      "Found 9 images belonging to 3 classes.\n"
     ]
    }
   ],
   "source": [
    "train_batches= train_gen.flow_from_directory(directory = 'train/' , target_size = (64,64) , batch_size = 32)\n",
    "validation_batches= test_gen.flow_from_directory(directory='test/' , target_size = (64,64) , batch_size = 32)"
   ]
  },
  {
   "cell_type": "code",
   "execution_count": 35,
   "metadata": {
    "scrolled": false
   },
   "outputs": [
    {
     "name": "stdout",
     "output_type": "stream",
     "text": [
      "Epoch 1/10\n",
      "30/30 [==============================] - 31s 1s/step - loss: 1.0235 - val_loss: 1.0522\n",
      "Epoch 2/10\n",
      "30/30 [==============================] - 29s 978ms/step - loss: 0.9211 - val_loss: 1.0194\n",
      "Epoch 3/10\n",
      "30/30 [==============================] - 29s 982ms/step - loss: 0.8930 - val_loss: 1.0873\n",
      "Epoch 4/10\n",
      "30/30 [==============================] - 30s 984ms/step - loss: 0.8348 - val_loss: 0.9822\n",
      "Epoch 5/10\n",
      "30/30 [==============================] - 30s 986ms/step - loss: 0.8111 - val_loss: 0.9159\n",
      "Epoch 6/10\n",
      "30/30 [==============================] - 35s 1s/step - loss: 0.7645 - val_loss: 0.8911\n",
      "Epoch 7/10\n",
      "30/30 [==============================] - 30s 988ms/step - loss: 0.7481 - val_loss: 1.2858\n",
      "Epoch 8/10\n",
      "30/30 [==============================] - 29s 968ms/step - loss: 0.7025 - val_loss: 0.8256\n",
      "Epoch 9/10\n",
      "30/30 [==============================] - 29s 975ms/step - loss: 0.7012 - val_loss: 0.8218\n",
      "Epoch 10/10\n",
      "30/30 [==============================] - 30s 990ms/step - loss: 0.6274 - val_loss: 0.8014\n"
     ]
    },
    {
     "data": {
      "text/plain": [
       "<tensorflow.python.keras.callbacks.History at 0x22be5c53a88>"
      ]
     },
     "execution_count": 35,
     "metadata": {},
     "output_type": "execute_result"
    }
   ],
   "source": [
    "# Training the model\n",
    "model.fit_generator(train_batches, steps_per_epoch = 30, validation_data = validation_batches, validation_steps = 13, epochs = 10)"
   ]
  },
  {
   "cell_type": "code",
   "execution_count": 36,
   "metadata": {},
   "outputs": [],
   "source": [
    "import json \n",
    "logger = tf.get_logger()\n",
    "logger.setLevel(logging.ERROR)\n",
    "from PIL import Image \n",
    "from PIL import ImageTk\n",
    "import tkinter "
   ]
  },
  {
   "cell_type": "code",
   "execution_count": 37,
   "metadata": {},
   "outputs": [],
   "source": [
    "def prediction(imageName):\n",
    "    image = tf.keras.preprocessing.image.load_img(imageName , target_size = (64,64))\n",
    "    sample = np.expand_dims(image , axis = 0)\n",
    "    sample = np.array(sample , dtype = 'float') \n",
    "    \n",
    "    predicted = model.predict(sample)\n",
    "    if predicted[0][0] == 1:\n",
    "        return 'Priya'\n",
    "    elif predicted[0][1] == 1:\n",
    "        return 'Smriti'\n",
    "    elif predicted[0][2] == 1:\n",
    "        return 'Varsha'"
   ]
  },
  {
   "cell_type": "code",
   "execution_count": 38,
   "metadata": {},
   "outputs": [],
   "source": [
    "def performButton():\n",
    "    img = Image.open(path + nameEntry.get() + \".jpeg\")\n",
    "    img = img.resize((250, 250), Image.ANTIALIAS)\n",
    "    img = ImageTk.PhotoImage(img)\n",
    "    panel = tkinter.Label(root, image = img) \n",
    "    panel.image = img \n",
    "    panel.grid(row = 2)\n",
    "    tkinter.Label(root, text=\"I am \"+prediction(nameEntry.get()+\".jpeg\")).grid(row=3)"
   ]
  },
  {
   "cell_type": "code",
   "execution_count": 39,
   "metadata": {
    "scrolled": true
   },
   "outputs": [],
   "source": [
    "root = tkinter.Tk()\n",
    "root.geometry(\"600x600\")\n",
    "path = \"C:\\\\Users\\\\CHANDRAN\\\\Documents\\\\project\\\\buddies\\\\\"\n",
    "\n",
    "tkinter.Label(root, text=\"Enter Image Name\").grid(row=0)\n",
    "nameEntry = tkinter.Entry(root)\n",
    "nameEntry.grid(row=0, column=1)\n",
    "submit = tkinter.Button(root , text = \"Who is this?\" , command = performButton)\n",
    "submit.grid(row = 1 , column = 1)\n",
    "\n",
    "\n",
    "root.mainloop()"
   ]
  },
  {
   "cell_type": "code",
   "execution_count": 40,
   "metadata": {},
   "outputs": [
    {
     "name": "stdout",
     "output_type": "stream",
     "text": [
      "Model: \"sequential_2\"\n",
      "_________________________________________________________________\n",
      "Layer (type)                 Output Shape              Param #   \n",
      "=================================================================\n",
      "conv2d_4 (Conv2D)            (None, 63, 63, 32)        416       \n",
      "_________________________________________________________________\n",
      "max_pooling2d_4 (MaxPooling2 (None, 31, 31, 32)        0         \n",
      "_________________________________________________________________\n",
      "conv2d_5 (Conv2D)            (None, 30, 30, 32)        4128      \n",
      "_________________________________________________________________\n",
      "max_pooling2d_5 (MaxPooling2 (None, 15, 15, 32)        0         \n",
      "_________________________________________________________________\n",
      "flatten_2 (Flatten)          (None, 7200)              0         \n",
      "_________________________________________________________________\n",
      "dense_4 (Dense)              (None, 128)               921728    \n",
      "_________________________________________________________________\n",
      "dense_5 (Dense)              (None, 3)                 387       \n",
      "=================================================================\n",
      "Total params: 926,659\n",
      "Trainable params: 926,659\n",
      "Non-trainable params: 0\n",
      "_________________________________________________________________\n"
     ]
    }
   ],
   "source": [
    "model.summary()"
   ]
  },
  {
   "cell_type": "code",
   "execution_count": null,
   "metadata": {},
   "outputs": [],
   "source": []
  }
 ],
 "metadata": {
  "kernelspec": {
   "display_name": "Python 3",
   "language": "python",
   "name": "python3"
  },
  "language_info": {
   "codemirror_mode": {
    "name": "ipython",
    "version": 3
   },
   "file_extension": ".py",
   "mimetype": "text/x-python",
   "name": "python",
   "nbconvert_exporter": "python",
   "pygments_lexer": "ipython3",
   "version": "3.7.6"
  }
 },
 "nbformat": 4,
 "nbformat_minor": 2
}
