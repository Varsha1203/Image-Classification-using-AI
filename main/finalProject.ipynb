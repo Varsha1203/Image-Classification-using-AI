{
 "cells": [
  {
   "cell_type": "code",
   "execution_count": 1,
   "metadata": {
    "colab": {},
    "colab_type": "code",
    "id": "awhcedTdigj5"
   },
   "outputs": [],
   "source": [
    "# Imports\n",
    "import tensorflow as tf\n",
    "import numpy as np"
   ]
  },
  {
   "cell_type": "code",
   "execution_count": 2,
   "metadata": {
    "colab": {},
    "colab_type": "code",
    "id": "dwKSquTiigkH"
   },
   "outputs": [],
   "source": [
    "model = tf.keras.models.Sequential()"
   ]
  },
  {
   "cell_type": "code",
   "execution_count": 3,
   "metadata": {
    "colab": {},
    "colab_type": "code",
    "id": "7jZPNMWuigkS"
   },
   "outputs": [],
   "source": [
    "# Defining the model\n",
    "\n",
    "model.add(tf.keras.layers.Conv2D(32 , kernel_size = (2,2) , input_shape = (64,64,3) ,activation = 'relu'))\n",
    "model.add(tf.keras.layers.MaxPool2D(pool_size  = (2,2)))\n",
    "\n",
    "model.add(tf.keras.layers.Conv2D(64, kernel_size = (2,2),activation = 'relu'))\n",
    "model.add(tf.keras.layers.MaxPool2D(pool_size = (2,2)))\n",
    "\n",
    "model.add(tf.keras.layers.Dropout(0.25))\n",
    "model.add(tf.keras.layers.Flatten())\n",
    "model.add(tf.keras.layers.Dense(units = 128 , activation = 'relu'))\n",
    "\n",
    "model.add(tf.keras.layers.Dropout(0.5))\n",
    "model.add(tf.keras.layers.Dense(units = 3 , activation = 'softmax'))"
   ]
  },
  {
   "cell_type": "code",
   "execution_count": 4,
   "metadata": {
    "colab": {},
    "colab_type": "code",
    "id": "e4xd_4QFigkc"
   },
   "outputs": [],
   "source": [
    "# Compiling the model\n",
    "model.compile(loss=tf.keras.losses.categorical_crossentropy,\n",
    "              optimizer=\"sgd\",\n",
    "              metrics=['accuracy'])"
   ]
  },
  {
   "cell_type": "code",
   "execution_count": 5,
   "metadata": {
    "colab": {},
    "colab_type": "code",
    "id": "S32rDEtmigkk"
   },
   "outputs": [],
   "source": [
    "# Image Data Generations\n",
    "train_gen = tf.keras.preprocessing.image.ImageDataGenerator(rescale = 1./255, shear_range = 0.2 , zoom_range = 0.2 , horizontal_flip = True)\n",
    "test_gen = tf.keras.preprocessing.image.ImageDataGenerator(rescale = 1./255)"
   ]
  },
  {
   "cell_type": "code",
   "execution_count": 6,
   "metadata": {
    "colab": {},
    "colab_type": "code",
    "id": "XWCMtFmGigkr",
    "outputId": "1cb903ec-7e8b-4deb-8b91-960d9db2b172",
    "scrolled": true
   },
   "outputs": [
    {
     "name": "stdout",
     "output_type": "stream",
     "text": [
      "Found 46 images belonging to 3 classes.\n",
      "Found 9 images belonging to 3 classes.\n"
     ]
    }
   ],
   "source": [
    "train_batches = train_gen.flow_from_directory(directory = 'train/' , target_size = (64,64) , batch_size = 5)\n",
    "validation_batches= test_gen.flow_from_directory(directory='test/' , target_size = (64,64) , batch_size = 5)"
   ]
  },
  {
   "cell_type": "code",
   "execution_count": 16,
   "metadata": {
    "colab": {},
    "colab_type": "code",
    "id": "n0bVSLWTigkz",
    "outputId": "f762595d-5007-4133-be54-587145d62411",
    "scrolled": false
   },
   "outputs": [
    {
     "name": "stdout",
     "output_type": "stream",
     "text": [
      "Epoch 1/20\n",
      "30/30 [==============================] - 10s 318ms/step - loss: 0.8719 - accuracy: 0.6304 - val_loss: 1.0284 - val_accuracy: 0.5593\n",
      "Epoch 2/20\n",
      "30/30 [==============================] - 9s 293ms/step - loss: 0.8768 - accuracy: 0.6667 - val_loss: 0.9104 - val_accuracy: 0.4407\n",
      "Epoch 3/20\n",
      "30/30 [==============================] - 9s 313ms/step - loss: 0.8283 - accuracy: 0.6884 - val_loss: 0.9450 - val_accuracy: 0.5593\n",
      "Epoch 4/20\n",
      "30/30 [==============================] - 9s 292ms/step - loss: 0.8062 - accuracy: 0.6667 - val_loss: 0.9704 - val_accuracy: 0.5254\n",
      "Epoch 5/20\n",
      "30/30 [==============================] - 9s 305ms/step - loss: 0.8719 - accuracy: 0.6594 - val_loss: 0.8618 - val_accuracy: 0.5593\n",
      "Epoch 6/20\n",
      "30/30 [==============================] - 8s 264ms/step - loss: 0.7560 - accuracy: 0.7101 - val_loss: 0.8155 - val_accuracy: 0.6780\n",
      "Epoch 7/20\n",
      "30/30 [==============================] - 9s 304ms/step - loss: 0.6970 - accuracy: 0.6957 - val_loss: 0.9172 - val_accuracy: 0.5254\n",
      "Epoch 8/20\n",
      "30/30 [==============================] - 9s 307ms/step - loss: 0.6641 - accuracy: 0.7029 - val_loss: 0.8040 - val_accuracy: 0.5424\n",
      "Epoch 9/20\n",
      "30/30 [==============================] - 8s 279ms/step - loss: 0.7002 - accuracy: 0.6739 - val_loss: 0.7534 - val_accuracy: 0.6780\n",
      "Epoch 10/20\n",
      "30/30 [==============================] - 9s 309ms/step - loss: 0.7622 - accuracy: 0.6884 - val_loss: 1.1562 - val_accuracy: 0.3390\n",
      "Epoch 11/20\n",
      "30/30 [==============================] - 8s 258ms/step - loss: 0.7706 - accuracy: 0.6812 - val_loss: 0.8090 - val_accuracy: 0.6610\n",
      "Epoch 12/20\n",
      "30/30 [==============================] - 8s 272ms/step - loss: 0.6706 - accuracy: 0.7464 - val_loss: 0.8386 - val_accuracy: 0.5424\n",
      "Epoch 13/20\n",
      "30/30 [==============================] - 8s 261ms/step - loss: 0.6917 - accuracy: 0.7391 - val_loss: 0.8956 - val_accuracy: 0.5424\n",
      "Epoch 14/20\n",
      "30/30 [==============================] - 9s 294ms/step - loss: 0.5483 - accuracy: 0.7681 - val_loss: 0.7550 - val_accuracy: 0.7797\n",
      "Epoch 15/20\n",
      "30/30 [==============================] - 9s 293ms/step - loss: 0.5517 - accuracy: 0.7609 - val_loss: 0.8010 - val_accuracy: 0.5593\n",
      "Epoch 16/20\n",
      "30/30 [==============================] - 9s 304ms/step - loss: 0.5595 - accuracy: 0.7609 - val_loss: 0.7557 - val_accuracy: 0.6780\n",
      "Epoch 17/20\n",
      "30/30 [==============================] - 8s 275ms/step - loss: 0.6705 - accuracy: 0.7464 - val_loss: 1.1297 - val_accuracy: 0.5593\n",
      "Epoch 18/20\n",
      "30/30 [==============================] - 9s 286ms/step - loss: 0.5944 - accuracy: 0.7536 - val_loss: 0.7958 - val_accuracy: 0.6610\n",
      "Epoch 19/20\n",
      "30/30 [==============================] - 9s 289ms/step - loss: 0.5007 - accuracy: 0.8116 - val_loss: 0.7996 - val_accuracy: 0.6780\n",
      "Epoch 20/20\n",
      "30/30 [==============================] - 9s 310ms/step - loss: 0.6092 - accuracy: 0.7754 - val_loss: 0.8361 - val_accuracy: 0.6949\n"
     ]
    },
    {
     "data": {
      "text/plain": [
       "<tensorflow.python.keras.callbacks.History at 0x1b0820995c8>"
      ]
     },
     "execution_count": 16,
     "metadata": {},
     "output_type": "execute_result"
    }
   ],
   "source": [
    "# Training the model\n",
    "model.fit_generator(train_batches, steps_per_epoch = 30,validation_data =  validation_batches, validation_steps = 13, epochs = 20)"
   ]
  },
  {
   "cell_type": "code",
   "execution_count": 17,
   "metadata": {},
   "outputs": [
    {
     "name": "stdout",
     "output_type": "stream",
     "text": [
      "Epoch 1/20\n",
      "30/30 [==============================] - 10s 323ms/step - loss: 0.4676 - accuracy: 0.8406 - val_loss: 0.8492 - val_accuracy: 0.6780\n",
      "Epoch 2/20\n",
      "30/30 [==============================] - 8s 271ms/step - loss: 0.3627 - accuracy: 0.8768 - val_loss: 0.8903 - val_accuracy: 0.5763\n",
      "Epoch 3/20\n",
      "30/30 [==============================] - 9s 290ms/step - loss: 0.4098 - accuracy: 0.7971 - val_loss: 0.9172 - val_accuracy: 0.5593\n",
      "Epoch 4/20\n",
      "30/30 [==============================] - 8s 277ms/step - loss: 0.3281 - accuracy: 0.8841 - val_loss: 1.0228 - val_accuracy: 0.6610\n",
      "Epoch 5/20\n",
      "30/30 [==============================] - 8s 268ms/step - loss: 0.3828 - accuracy: 0.8406 - val_loss: 0.8600 - val_accuracy: 0.6780\n",
      "Epoch 6/20\n",
      "30/30 [==============================] - 9s 286ms/step - loss: 0.3692 - accuracy: 0.8768 - val_loss: 1.0147 - val_accuracy: 0.6610\n",
      "Epoch 7/20\n",
      "30/30 [==============================] - 8s 281ms/step - loss: 0.2866 - accuracy: 0.8986 - val_loss: 0.9767 - val_accuracy: 0.6780\n",
      "Epoch 8/20\n",
      "30/30 [==============================] - 8s 270ms/step - loss: 0.2909 - accuracy: 0.8696 - val_loss: 1.0741 - val_accuracy: 0.6610\n",
      "Epoch 9/20\n",
      "30/30 [==============================] - 8s 259ms/step - loss: 0.2860 - accuracy: 0.9058 - val_loss: 1.1968 - val_accuracy: 0.5424\n",
      "Epoch 10/20\n",
      "30/30 [==============================] - 8s 264ms/step - loss: 0.2571 - accuracy: 0.8986 - val_loss: 0.9387 - val_accuracy: 0.5424\n",
      "Epoch 11/20\n",
      "30/30 [==============================] - 8s 281ms/step - loss: 0.2848 - accuracy: 0.9058 - val_loss: 0.7940 - val_accuracy: 0.6780\n",
      "Epoch 12/20\n",
      "30/30 [==============================] - 9s 285ms/step - loss: 0.2468 - accuracy: 0.9420 - val_loss: 0.8893 - val_accuracy: 0.6610\n",
      "Epoch 13/20\n",
      "30/30 [==============================] - 8s 261ms/step - loss: 0.2241 - accuracy: 0.9130 - val_loss: 1.2803 - val_accuracy: 0.6610\n",
      "Epoch 14/20\n",
      "30/30 [==============================] - 10s 327ms/step - loss: 0.2296 - accuracy: 0.9203 - val_loss: 1.0230 - val_accuracy: 0.5254\n",
      "Epoch 15/20\n",
      "30/30 [==============================] - 8s 260ms/step - loss: 0.2080 - accuracy: 0.9130 - val_loss: 1.1133 - val_accuracy: 0.6780\n",
      "Epoch 16/20\n",
      "30/30 [==============================] - 9s 287ms/step - loss: 0.1675 - accuracy: 0.9565 - val_loss: 1.2918 - val_accuracy: 0.6610\n",
      "Epoch 17/20\n",
      "30/30 [==============================] - 8s 277ms/step - loss: 0.1591 - accuracy: 0.9420 - val_loss: 1.1114 - val_accuracy: 0.4576\n",
      "Epoch 18/20\n",
      "30/30 [==============================] - 9s 284ms/step - loss: 0.1768 - accuracy: 0.9638 - val_loss: 0.9757 - val_accuracy: 0.6780\n",
      "Epoch 19/20\n",
      "30/30 [==============================] - 8s 266ms/step - loss: 0.2326 - accuracy: 0.9058 - val_loss: 0.9132 - val_accuracy: 0.5254\n",
      "Epoch 20/20\n",
      "30/30 [==============================] - 8s 266ms/step - loss: 0.1261 - accuracy: 0.9855 - val_loss: 0.9960 - val_accuracy: 0.5424\n"
     ]
    },
    {
     "data": {
      "text/plain": [
       "<tensorflow.python.keras.callbacks.History at 0x1b081f52748>"
      ]
     },
     "execution_count": 17,
     "metadata": {},
     "output_type": "execute_result"
    }
   ],
   "source": [
    "model.fit_generator(train_batches, steps_per_epoch = 30,validation_data =  validation_batches, validation_steps = 13, epochs = 20)"
   ]
  },
  {
   "cell_type": "code",
   "execution_count": 18,
   "metadata": {
    "colab": {},
    "colab_type": "code",
    "id": "Nzp9AbQJigk6"
   },
   "outputs": [],
   "source": [
    "import json \n",
    "from PIL import Image \n",
    "from PIL import ImageTk\n",
    "import tkinter "
   ]
  },
  {
   "cell_type": "code",
   "execution_count": 19,
   "metadata": {
    "colab": {},
    "colab_type": "code",
    "id": "M-OlyNSKiglD"
   },
   "outputs": [],
   "source": [
    "def prediction(imageName):\n",
    "    image = tf.keras.preprocessing.image.load_img(imageName , target_size = (64,64))\n",
    "    sample = np.expand_dims(image , axis = 0)\n",
    "    sample = np.array(sample , dtype = 'float') \n",
    "    \n",
    "    predicted = model.predict(sample)\n",
    "    if predicted[0][0] == 1:\n",
    "        return 'Priya'\n",
    "    elif predicted[0][1] == 1:\n",
    "        return 'Smriti'\n",
    "    elif predicted[0][2] == 1:\n",
    "        return 'Varsha'"
   ]
  },
  {
   "cell_type": "code",
   "execution_count": 35,
   "metadata": {},
   "outputs": [
    {
     "data": {
      "text/plain": [
       "array([[0., 0., 1.]], dtype=float32)"
      ]
     },
     "execution_count": 35,
     "metadata": {},
     "output_type": "execute_result"
    }
   ],
   "source": [
    "imageName=\"test10.jpeg\"\n",
    "image = tf.keras.preprocessing.image.load_img(imageName , target_size = (64,64))\n",
    "sample = np.expand_dims(image , axis = 0)\n",
    "sample = np.array(sample , dtype = 'float') \n",
    "predicted = model.predict(sample)\n",
    "np.around(predicted)"
   ]
  },
  {
   "cell_type": "code",
   "execution_count": 191,
   "metadata": {
    "colab": {},
    "colab_type": "code",
    "id": "OXcxRR0ZiglJ"
   },
   "outputs": [],
   "source": [
    "def performButton():\n",
    "    img = Image.open(path + nameEntry.get()+\".jpeg\")\n",
    "    img = img.resize((250, 250), Image.ANTIALIAS)\n",
    "    img = ImageTk.PhotoImage(img)\n",
    "    panel = tkinter.Label(root, image = img) \n",
    "    panel.image = img \n",
    "    panel.grid(row = 2)\n",
    "    tkinter.Label(root, text=\"I am \"+prediction(nameEntry.get()+\".jpeg\")).grid(row=3)"
   ]
  },
  {
   "cell_type": "code",
   "execution_count": 194,
   "metadata": {
    "colab": {},
    "colab_type": "code",
    "id": "dj0PnIuaiglP",
    "scrolled": true
   },
   "outputs": [],
   "source": [
    "root = tkinter.Tk()\n",
    "root.geometry(\"600x600\")\n",
    "path = \"C:\\\\Users\\\\CHANDRAN\\\\Documents\\\\project\\\\buddies\\\\\"\n",
    "\n",
    "tkinter.Label(root, text=\"Enter Image Name\").grid(row=0)\n",
    "nameEntry = tkinter.Entry(root)\n",
    "nameEntry.grid(row=0, column=1)\n",
    "submit = tkinter.Button(root , text = \"Who is this?\" , command = performButton)\n",
    "submit.grid(row = 1 , column = 1)\n",
    "\n",
    "\n",
    "root.mainloop()"
   ]
  },
  {
   "cell_type": "code",
   "execution_count": 46,
   "metadata": {},
   "outputs": [],
   "source": [
    "model_json = model.to_json()\n",
    "with open(\"model_in_json.json\",\"w\") as json_file:\n",
    "   json_file.write(model_json)\n",
    "    \n",
    "model.save_weights(\"model_weights.h5\")"
   ]
  },
  {
   "cell_type": "code",
   "execution_count": 0,
   "metadata": {
    "colab": {},
    "colab_type": "code",
    "id": "hZW8ZLxoigla"
   },
   "outputs": [],
   "source": []
  }
 ],
 "metadata": {
  "colab": {
   "collapsed_sections": [],
   "name": "Final.ipynb",
   "provenance": []
  },
  "kernelspec": {
   "display_name": "Python 3",
   "language": "python",
   "name": "python3"
  },
  "language_info": {
   "codemirror_mode": {
    "name": "ipython",
    "version": 3
   },
   "file_extension": ".py",
   "mimetype": "text/x-python",
   "name": "python",
   "nbconvert_exporter": "python",
   "pygments_lexer": "ipython3",
   "version": "3.7.4"
  }
 },
 "nbformat": 4,
 "nbformat_minor": 1
}
