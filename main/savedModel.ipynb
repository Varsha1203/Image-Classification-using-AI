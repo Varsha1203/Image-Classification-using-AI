{
 "cells": [
  {
   "cell_type": "code",
   "execution_count": 1,
   "metadata": {},
   "outputs": [],
   "source": [
    "import tensorflow as tf\n",
    "import numpy as np\n",
    "import logging\n",
    "import json\n",
    "import os\n",
    "from tensorflow.keras.models import model_from_json\n",
    "from PIL import Image \n",
    "from PIL import ImageTk\n",
    "import tkinter "
   ]
  },
  {
   "cell_type": "code",
   "execution_count": 2,
   "metadata": {},
   "outputs": [],
   "source": [
    "json_file = open('model_in_json.json', 'r')\n",
    "loaded_model_json = json_file.read()\n",
    "json_file.close()\n",
    "loaded_model = model_from_json(loaded_model_json)\n",
    "loaded_model.load_weights(\"model_weights.h5\")"
   ]
  },
  {
   "cell_type": "code",
   "execution_count": 3,
   "metadata": {},
   "outputs": [
    {
     "data": {
      "text/plain": [
       "array([[1., 0., 0.]], dtype=float32)"
      ]
     },
     "execution_count": 3,
     "metadata": {},
     "output_type": "execute_result"
    }
   ],
   "source": [
    "imageName=\"test1.jpeg\"\n",
    "image = tf.keras.preprocessing.image.load_img(imageName , target_size = (64,64))\n",
    "sample = np.expand_dims(image , axis = 0)\n",
    "sample = np.array(sample , dtype = 'float') \n",
    "predicted = loaded_model.predict(sample)\n",
    "np.around(predicted)"
   ]
  },
  {
   "cell_type": "code",
   "execution_count": 4,
   "metadata": {},
   "outputs": [],
   "source": [
    "def prediction(imageName):\n",
    "    image = tf.keras.preprocessing.image.load_img(imageName , target_size = (64,64))\n",
    "    sample = np.expand_dims(image , axis = 0)\n",
    "    sample = np.array(sample , dtype = 'float') \n",
    "    \n",
    "    predicted = loaded_model.predict(sample)\n",
    "    if predicted[0][0] == 1:\n",
    "        return 'Priya'\n",
    "    elif predicted[0][1] == 1:\n",
    "        return 'Smriti'\n",
    "    elif predicted[0][2] == 1:\n",
    "        return 'Varsha'"
   ]
  },
  {
   "cell_type": "code",
   "execution_count": 5,
   "metadata": {},
   "outputs": [],
   "source": [
    "def performButton():\n",
    "    img = Image.open(path + nameEntry.get()+\".jpeg\")\n",
    "    img = img.resize((250, 250), Image.ANTIALIAS)\n",
    "    img = ImageTk.PhotoImage(img)\n",
    "    panel = tkinter.Label(root, image = img) \n",
    "    panel.image = img \n",
    "    panel.grid(row = 2)\n",
    "    tkinter.Label(root, text=\"I am \"+prediction(nameEntry.get()+\".jpeg\")).grid(row=3)"
   ]
  },
  {
   "cell_type": "code",
   "execution_count": 6,
   "metadata": {},
   "outputs": [],
   "source": [
    "root = tkinter.Tk()\n",
    "root.geometry(\"600x600\")\n",
    "path = \"C:\\\\Users\\\\CHANDRAN\\\\Documents\\\\project\\\\buddies\\\\\"\n",
    "\n",
    "tkinter.Label(root, text=\"Enter Image Name\").grid(row=0)\n",
    "nameEntry = tkinter.Entry(root)\n",
    "nameEntry.grid(row=0, column=1)\n",
    "submit = tkinter.Button(root , text = \"Who is this?\" , command = performButton)\n",
    "submit.grid(row = 1 , column = 1)\n",
    "\n",
    "\n",
    "root.mainloop()"
   ]
  },
  {
   "cell_type": "code",
   "execution_count": null,
   "metadata": {},
   "outputs": [],
   "source": []
  }
 ],
 "metadata": {
  "kernelspec": {
   "display_name": "Python 3",
   "language": "python",
   "name": "python3"
  },
  "language_info": {
   "codemirror_mode": {
    "name": "ipython",
    "version": 3
   },
   "file_extension": ".py",
   "mimetype": "text/x-python",
   "name": "python",
   "nbconvert_exporter": "python",
   "pygments_lexer": "ipython3",
   "version": "3.7.4"
  }
 },
 "nbformat": 4,
 "nbformat_minor": 2
}
